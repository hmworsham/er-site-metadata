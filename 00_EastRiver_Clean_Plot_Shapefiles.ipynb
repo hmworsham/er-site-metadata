{
 "metadata": {
  "language_info": {
   "codemirror_mode": {
    "name": "ipython",
    "version": 3
   },
   "file_extension": ".py",
   "mimetype": "text/x-python",
   "name": "python",
   "nbconvert_exporter": "python",
   "pygments_lexer": "ipython3",
   "version": "3.8.2-final"
  },
  "orig_nbformat": 2,
  "kernelspec": {
   "name": "python3",
   "display_name": "Python 3.8.2 64-bit ('eastriver')",
   "metadata": {
    "interpreter": {
     "hash": "694906d4bdfb4419bb11f4dc5dd7571da8b03b6ba5e3b3dfe65feafb153e7a85"
    }
   }
  }
 },
 "nbformat": 4,
 "nbformat_minor": 2,
 "cells": [
  {
   "source": [
    "# Pull Forest Inventory Plot Coordinates and Areas"
   ],
   "cell_type": "markdown",
   "metadata": {}
  },
  {
   "cell_type": "code",
   "execution_count": 2,
   "metadata": {},
   "outputs": [],
   "source": [
    "author = ['Marshall Worsham']\n",
    "date = 2020-12-20"
   ]
  },
  {
   "source": [
    "This notebook contains code that cleans and adds missing data to shapefiles that describe the locations of 14 Kueppers 40x40m forest inventory plots in the East River watershed, Colorado, US, as of August 2020. The code operates on three types of shapefiles for each plot:\n",
    "\n",
    "1. polygon shapefile representing the footprints of all plots\n",
    "2. polygon shapefiles representing the footprint of a single plot\n",
    "2. point shapefile representing the four corners of the plot\n",
    "3. line shapefile representing the four edges of the plot\n",
    "\n",
    "The output is a set of final properly named shapefiles for storage in the Kueppers et al. East River/RMBL Drive folder."
   ],
   "cell_type": "markdown",
   "metadata": {}
  },
  {
   "source": [
    "## 1. Load libraries"
   ],
   "cell_type": "markdown",
   "metadata": {}
  },
  {
   "cell_type": "code",
   "execution_count": 1,
   "metadata": {},
   "outputs": [],
   "source": [
    "import os\n",
    "import pandas as pd\n",
    "import geopandas as gpd\n",
    "import numpy as np\n",
    "import math\n",
    "import re\n",
    "from matplotlib import pyplot as plt\n",
    "from os.path import join, getsize\n",
    "%matplotlib inline"
   ]
  },
  {
   "source": [
    "## 2. Import shapefiles"
   ],
   "cell_type": "markdown",
   "metadata": {}
  },
  {
   "cell_type": "code",
   "execution_count": 88,
   "metadata": {},
   "outputs": [
    {
     "output_type": "execute_result",
     "data": {
      "text/plain": [
       "['SG-SWR1_Bound_lines_WGS84UTM13N.dbf',\n",
       " 'ER-GT1_PlotCenter_WGS84UTM13N.shp.xml',\n",
       " 'XX-CAR1_Bound_lines_WGS84UTM13N.sbx',\n",
       " 'ER-BME2_Bound_poly_WGS84UTM13N.sbn',\n",
       " 'XX-PLN1_Bound_lines_WGS84UTM13N.dbf',\n",
       " 'CC-UC2_Bound_poly_WGS84UTM13N.sbx',\n",
       " 'ER-APL1_Bound_lines_WGS84UTM13N.shp',\n",
       " 'XX-PLN2_Bound_pts_WGS84UTM13N.cpg',\n",
       " 'XX-CAR2_Bound_poly_WGS84UTM13N.dbf',\n",
       " 'XX-PLN2_Bound_poly_WGS84UTM13N.sbx']"
      ]
     },
     "metadata": {},
     "execution_count": 88
    }
   ],
   "source": [
    "# Define a few directories\n",
    "os.getcwd()\n",
    "directory = '/Users/hmworsham/Desktop/RMBL/Projects/Watershed_Spatial_Dataset'\n",
    "source_dir = os.sep.join([directory, 'Source'])\n",
    "scratch_dir = os.sep.join([directory, 'Scratch'])\n",
    "out_dir = os.sep.join([directory, 'Output'])\n",
    "\n",
    "# Call a directory storing all shapefiles and list contents\n",
    "sf_dir = os.sep.join([scratch_dir, 'Kueppers_Plot_Bnd_2020_WGS84UTM13N_Renamed'])\n",
    "os.listdir(sf_dir)[:10]"
   ]
  },
  {
   "cell_type": "code",
   "execution_count": 311,
   "metadata": {},
   "outputs": [],
   "source": [
    "# Isolate the polygon sf containing all plot footprints\n",
    "kplots = [i for i in os.listdir(sf_dir) if ('Kueppers' in i) and (i.endswith('.shp'))]\n",
    "\n",
    "# Isolate the shapefiles containing single plot footprints\n",
    "polys = [i for i in os.listdir(sf_dir) if ('poly' in i) and i.endswith('.shp')]\n",
    "lines = [i for i in os.listdir(sf_dir) if ('line' in i) and i.endswith('.shp')]\n",
    "cornerpts = [i for i in os.listdir(sf_dir) if ('pts' in i) and i.endswith('.shp')]\n",
    "centerpts = [i for i in os.listdir(sf_dir) if ('Center' in i) and i.endswith('.shp')]\n",
    "\n",
    "assert len(polys) == len(lines) == len(cornerpts) == len(centerpts) == 14"
   ]
  },
  {
   "cell_type": "code",
   "execution_count": 62,
   "metadata": {},
   "outputs": [],
   "source": [
    "# Import kplots as a pandas geodataframe\n",
    "kplots_gpdf = gpd.read_file(os.sep.join([sf_dir, kplots[0]]))"
   ]
  },
  {
   "cell_type": "code",
   "execution_count": 63,
   "metadata": {},
   "outputs": [],
   "source": [
    "# Import members of polys, lines, centers, corners as geodataframes and store together in a geometry-type specific list\n",
    "polys_gpdf_ls = [gpd.read_file(os.sep.join([sf_dir, i])) for i in polys]\n",
    "lines_gpdf_ls = [gpd.read_file(os.sep.join([sf_dir, i])) for i in lines]\n",
    "cornerpts_gpdf_ls = [gpd.read_file(os.sep.join([sf_dir, i])) for i in cornerpts]\n",
    "centerpts_gpdf_ls = [gpd.read_file(os.sep.join([sf_dir, i])) for i in centerpts]"
   ]
  },
  {
   "cell_type": "code",
   "execution_count": 64,
   "metadata": {},
   "outputs": [
    {
     "output_type": "stream",
     "name": "stdout",
     "text": [
      "   Id    POLY_AREA     AREA_GEO     CENTROID_X    CENTROID_Y      EXT_MIN_X  \\\n0   0  1221.776739  1221.863563  327968.771206  4.309996e+06  327949.990483   \n1   0  1177.413239  1177.591884  337758.617869  4.302957e+06  337736.807200   \n2   0  1287.171970  1287.196562  321927.062151  4.297227e+06  321908.283631   \n3   0  1235.951437  1235.963259  320848.986798  4.301036e+06  320829.547759   \n4   0  1410.672586  1410.729972  324398.723984  4.313021e+06  324373.194049   \n\n      EXT_MIN_Y      EXT_MAX_X     EXT_MAX_Y   PERIMETER   PERIM_GEO  \\\n0  4.309978e+06  327989.478774  4.310016e+06  140.646309  140.651312   \n1  4.302939e+06  337778.177932  4.302973e+06  139.726001  139.736602   \n2  4.297210e+06  321947.804717  4.297248e+06  144.320193  144.321566   \n3  4.301015e+06  320867.887399  4.301054e+06  141.227379  141.228053   \n4  4.312994e+06  324424.847580  4.313048e+06  150.371128  150.374179   \n\n    GEOMCTR_X  GEOMCTR_Y Plot_ID  PNT_COUNT  \\\n0 -106.984442  38.922037    None        5.0   \n1 -106.869902  38.860505    None        5.0   \n2 -107.050785  38.805835    None        5.0   \n3 -107.064186  38.839922    None        5.0   \n4 -107.026375  38.948571    None        5.0   \n\n                                            geometry  \n0  POLYGON ((327988.594 4310009.047, 327984.998 4...  \n1  POLYGON ((337778.178 4302938.646, 337739.318 4...  \n2  POLYGON ((321942.220 4297244.424, 321946.919 4...  \n3  POLYGON ((320863.247 4301015.870, 320828.662 4...  \n4  POLYGON ((324423.962 4313019.558, 324394.979 4...  \n   Id    POLY_AREA     AREA_GEO   PERIMETER   PERIM_GEO     CENTROID_X  \\\n0   0  1818.032892  1818.309599  171.090087  171.103097  337801.998507   \n\n     CENTROID_Y  PNT_COUNT      EXT_MIN_X     EXT_MIN_Y      EXT_MAX_X  \\\n0  4.302205e+06        5.0  337775.829576  4.302177e+06  337826.470554   \n\n      EXT_MAX_Y   GEOMCTR_X  GEOMCTR_Y Plot_ID  \\\n0  4.302231e+06 -106.869228  38.853734    None   \n\n                                            geometry  \n0  POLYGON ((337825.587 4302220.530, 337818.147 4...  \n   Id Plot_ID                                           geometry\n0   0    None  LINESTRING (327397.123 4316140.235, 327446.948...\n     Comment  Max_PDOP  Max_HDOP           Corr_Type Rcvr_Type    GPS_Date  \\\n0       None      12.3       5.8  Postprocessed Code    Geo 7X  2019-09-16   \n1  NE corner       7.8       4.0  Postprocessed Code    Geo 7X  2019-09-16   \n2  SE corner       2.4       1.3  Postprocessed Code    Geo 7X  2019-09-16   \n3  SW corner       4.1       2.1  Postprocessed Code    Geo 7X  2019-09-16   \n\n     GPS_Time Update_Sta Feat_Name          Datafile  ...  GPS_Second  \\\n0  01:54:43pm        New  Point_ge  BAGSHAW_PL2A.cor  ...    161700.0   \n1  01:59:22pm        New  Point_ge  BAGSHAW_PL2B.cor  ...    161979.0   \n2  02:02:04pm        New  Point_ge  BAGSHAW_PL2C.cor  ...    162141.0   \n3  02:04:54pm        New  Point_ge  BAGSHAW_PL2D.cor  ...    162311.0   \n\n   GNSS_Heigh Vert_Prec  Horz_Prec   Std_Dev      Latitude       Longitude  \\\n0    3138.714       2.2        2.0  0.193896  38.853614604  -106.869529354   \n1    3138.684       2.0        1.6  0.310542  38.853964070  -106.869423436   \n2    3137.629       2.3        1.8  0.230165  38.853872713  -106.868952554   \n3    3152.490       1.9        1.4  0.623260  38.853486668  -106.869028184   \n\n   Point_ID  Plot_ID                        geometry  \n0         1     None  POINT (337774.946 4302192.909)  \n1         1     None  POINT (337784.931 4302231.505)  \n2         1     None  POINT (337825.587 4302220.530)  \n3         1     None  POINT (337818.147 4302177.820)  \n\n[4 rows x 24 columns]\n   Id         XCoord        YCoord  Plot_ID                        geometry\n0   0  321926.176021  4.297228e+06  XX-CAR2  POINT (321926.176 4297228.027)\n"
     ]
    }
   ],
   "source": [
    "# Verify the geodataframes load as expected\n",
    "print(kplots_gpdf.head())\n",
    "print(polys_gpdf_ls[0])\n",
    "print(lines_gpdf_ls[0])\n",
    "print(cornerpts_gpdf_ls[0])\n",
    "print(centerpts_gpdf_ls[0])"
   ]
  },
  {
   "cell_type": "code",
   "execution_count": 65,
   "metadata": {},
   "outputs": [],
   "source": [
    "# Import external list of plot names, short-form IDs and center point coordinates\n",
    "coords = pd.read_csv(os.sep.join([source_dir, 'Kueppers_PlotIDs_Coords.csv']))"
   ]
  },
  {
   "source": [
    "## 3. Clean 'All Plots' shapefile"
   ],
   "cell_type": "markdown",
   "metadata": {}
  },
  {
   "cell_type": "code",
   "execution_count": 208,
   "metadata": {
    "tags": []
   },
   "outputs": [],
   "source": [
    "# create a copy of kplots for cleaning\n",
    "kplots_gpdf_clean = kplots_gpdf.copy()\n",
    "\n",
    "# inner join coords and kplots_gpdf on equal lat values to populate Plot_ID field with short name for reference\n",
    "# create temporary merge field 'latjoin'\n",
    "coords['latjoin'] = round(coords['Latitude'], 4)\n",
    "kplots_gpdf['latjoin'] = round(kplots_gpdf['GEOMCTR_Y'], 4)\n",
    "\n",
    "# merge as new gpdf\n",
    "new_df = kplots_gpdf.merge(coords, how = 'inner', on = 'latjoin')\n",
    "kplots_gpdf_clean['Plot_ID'] = new_df['SFA_ID']\n",
    "kplots_gpdf_clean = kplots_gpdf_clean[[\n",
    "    'Plot_ID',\n",
    "    'AREA_GEO', \n",
    "    'PERIM_GEO', \n",
    "    'CENTROID_X', \n",
    "    'CENTROID_Y',\n",
    "    'EXT_MIN_X',\n",
    "    'EXT_MIN_Y',\n",
    "    'EXT_MAX_X',\n",
    "    'EXT_MAX_Y',\n",
    "    'GEOMCTR_X',\n",
    "    'GEOMCTR_Y',\n",
    "    'geometry']]\n",
    "\n",
    "# Round area and perimeter estimates to proper sigfigs\n",
    "kplots_gpdf_clean.AREA_GEO = round(kplots_gpdf_clean.AREA_GEO,2)\n",
    "kplots_gpdf_clean.PERIM_GEO = round(kplots_gpdf_clean.PERIM_GEO,2)\n",
    "\n",
    "kplots_gpdf_clean.columns = [\n",
    "    'PLOT_ID',\n",
    "    'AREA_GEO',\n",
    "    'PERIM_GEO',\n",
    "    'CENTROID_X',\n",
    "    'CENTROID_Y',\n",
    "    'EXT_MIN_X',\n",
    "    'EXT_MIN_Y',\n",
    "    'EXT_MAX_X',\n",
    "    'EXT_MAX_Y',\n",
    "    'GEOMCTR_X',\n",
    "    'GEOMCTR_Y',\n",
    "    'geometry']"
   ]
  },
  {
   "cell_type": "code",
   "execution_count": 209,
   "metadata": {},
   "outputs": [
    {
     "output_type": "execute_result",
     "data": {
      "text/plain": [
       "    PLOT_ID  AREA_GEO  PERIM_GEO     CENTROID_X    CENTROID_Y      EXT_MIN_X  \\\n",
       "0   SG-SWR1   1221.86     140.65  327968.771206  4.309996e+06  327949.990483   \n",
       "1   XX-PLN1   1177.59     139.74  337758.617869  4.302957e+06  337736.807200   \n",
       "2   XX-CAR2   1287.20     144.32  321927.062151  4.297227e+06  321908.283631   \n",
       "3    CC-UC1   1235.96     141.23  320848.986798  4.301036e+06  320829.547759   \n",
       "4   WG-WGM1   1410.73     150.37  324398.723984  4.313021e+06  324373.194049   \n",
       "5   ER-APL1   1944.28     176.89  327423.102519  4.316119e+06  327398.007549   \n",
       "6    CC-UC2   1538.63     157.11  319223.426529  4.299901e+06  319196.384466   \n",
       "7   XX-PLN2   1818.31     171.10  337801.998507  4.302205e+06  337775.829576   \n",
       "8   XX-CAR1   1516.91     157.03  324523.481959  4.299187e+06  324496.662428   \n",
       "9   SG-NES2   1472.71     153.70  327781.177429  4.310932e+06  327759.284432   \n",
       "10  ER-BME2   1483.96     154.34  325233.109330  4.316933e+06  325213.219764   \n",
       "11  ER-BME1   1605.70     160.70  324117.327461  4.316075e+06  324094.267495   \n",
       "12  ER-APU1   1501.92     155.33  328460.395673  4.316326e+06  328436.649743   \n",
       "13   ER-GT1   1692.87     165.23  326237.765162  4.316162e+06  326209.004360   \n",
       "\n",
       "       EXT_MIN_Y      EXT_MAX_X     EXT_MAX_Y   GEOMCTR_X  GEOMCTR_Y  \\\n",
       "0   4.309978e+06  327989.478774  4.310016e+06 -106.984442  38.922037   \n",
       "1   4.302939e+06  337778.177932  4.302973e+06 -106.869902  38.860505   \n",
       "2   4.297210e+06  321947.804717  4.297248e+06 -107.050785  38.805835   \n",
       "3   4.301015e+06  320867.887399  4.301054e+06 -107.064186  38.839922   \n",
       "4   4.312994e+06  324424.847580  4.313048e+06 -107.026375  38.948571   \n",
       "5   4.316097e+06  327447.832708  4.316140e+06 -106.992277  38.977069   \n",
       "6   4.299874e+06  319249.271857  4.299929e+06 -107.082607  38.829368   \n",
       "7   4.302177e+06  337826.470554  4.302231e+06 -106.869228  38.853734   \n",
       "8   4.299165e+06  324549.502483  4.299208e+06 -107.021400  38.824003   \n",
       "9   4.310911e+06  327804.486267  4.310953e+06 -106.986841  38.930426   \n",
       "10  4.316913e+06  325253.159221  4.316953e+06 -107.017749  38.983970   \n",
       "11  4.316053e+06  324136.994521  4.316098e+06 -107.030406  38.976018   \n",
       "12  4.316301e+06  328485.988310  4.316352e+06 -106.980358  38.979139   \n",
       "13  4.316133e+06  326267.092899  4.316190e+06 -107.005961  38.977226   \n",
       "\n",
       "                                             geometry  \n",
       "0   POLYGON ((327988.594 4310009.047, 327984.998 4...  \n",
       "1   POLYGON ((337778.178 4302938.646, 337739.318 4...  \n",
       "2   POLYGON ((321942.220 4297244.424, 321946.919 4...  \n",
       "3   POLYGON ((320863.247 4301015.870, 320828.662 4...  \n",
       "4   POLYGON ((324423.962 4313019.558, 324394.979 4...  \n",
       "5   POLYGON ((327446.948 4316140.152, 327443.430 4...  \n",
       "6   POLYGON ((319248.385 4299896.601, 319217.419 4...  \n",
       "7   POLYGON ((337825.587 4302220.530, 337818.147 4...  \n",
       "8   POLYGON ((324548.617 4299202.260, 324536.204 4...  \n",
       "9   POLYGON ((327803.601 4310948.312, 327795.439 4...  \n",
       "10  POLYGON ((325252.274 4316913.555, 325212.833 4...  \n",
       "11  POLYGON ((324136.109 4316057.647, 324099.958 4...  \n",
       "12  POLYGON ((328485.104 4316314.960, 328448.263 4...  \n",
       "13  POLYGON ((326266.208 4316162.315, 326230.005 4...  "
      ],
      "text/html": "<div>\n<style scoped>\n    .dataframe tbody tr th:only-of-type {\n        vertical-align: middle;\n    }\n\n    .dataframe tbody tr th {\n        vertical-align: top;\n    }\n\n    .dataframe thead th {\n        text-align: right;\n    }\n</style>\n<table border=\"1\" class=\"dataframe\">\n  <thead>\n    <tr style=\"text-align: right;\">\n      <th></th>\n      <th>PLOT_ID</th>\n      <th>AREA_GEO</th>\n      <th>PERIM_GEO</th>\n      <th>CENTROID_X</th>\n      <th>CENTROID_Y</th>\n      <th>EXT_MIN_X</th>\n      <th>EXT_MIN_Y</th>\n      <th>EXT_MAX_X</th>\n      <th>EXT_MAX_Y</th>\n      <th>GEOMCTR_X</th>\n      <th>GEOMCTR_Y</th>\n      <th>geometry</th>\n    </tr>\n  </thead>\n  <tbody>\n    <tr>\n      <th>0</th>\n      <td>SG-SWR1</td>\n      <td>1221.86</td>\n      <td>140.65</td>\n      <td>327968.771206</td>\n      <td>4.309996e+06</td>\n      <td>327949.990483</td>\n      <td>4.309978e+06</td>\n      <td>327989.478774</td>\n      <td>4.310016e+06</td>\n      <td>-106.984442</td>\n      <td>38.922037</td>\n      <td>POLYGON ((327988.594 4310009.047, 327984.998 4...</td>\n    </tr>\n    <tr>\n      <th>1</th>\n      <td>XX-PLN1</td>\n      <td>1177.59</td>\n      <td>139.74</td>\n      <td>337758.617869</td>\n      <td>4.302957e+06</td>\n      <td>337736.807200</td>\n      <td>4.302939e+06</td>\n      <td>337778.177932</td>\n      <td>4.302973e+06</td>\n      <td>-106.869902</td>\n      <td>38.860505</td>\n      <td>POLYGON ((337778.178 4302938.646, 337739.318 4...</td>\n    </tr>\n    <tr>\n      <th>2</th>\n      <td>XX-CAR2</td>\n      <td>1287.20</td>\n      <td>144.32</td>\n      <td>321927.062151</td>\n      <td>4.297227e+06</td>\n      <td>321908.283631</td>\n      <td>4.297210e+06</td>\n      <td>321947.804717</td>\n      <td>4.297248e+06</td>\n      <td>-107.050785</td>\n      <td>38.805835</td>\n      <td>POLYGON ((321942.220 4297244.424, 321946.919 4...</td>\n    </tr>\n    <tr>\n      <th>3</th>\n      <td>CC-UC1</td>\n      <td>1235.96</td>\n      <td>141.23</td>\n      <td>320848.986798</td>\n      <td>4.301036e+06</td>\n      <td>320829.547759</td>\n      <td>4.301015e+06</td>\n      <td>320867.887399</td>\n      <td>4.301054e+06</td>\n      <td>-107.064186</td>\n      <td>38.839922</td>\n      <td>POLYGON ((320863.247 4301015.870, 320828.662 4...</td>\n    </tr>\n    <tr>\n      <th>4</th>\n      <td>WG-WGM1</td>\n      <td>1410.73</td>\n      <td>150.37</td>\n      <td>324398.723984</td>\n      <td>4.313021e+06</td>\n      <td>324373.194049</td>\n      <td>4.312994e+06</td>\n      <td>324424.847580</td>\n      <td>4.313048e+06</td>\n      <td>-107.026375</td>\n      <td>38.948571</td>\n      <td>POLYGON ((324423.962 4313019.558, 324394.979 4...</td>\n    </tr>\n    <tr>\n      <th>5</th>\n      <td>ER-APL1</td>\n      <td>1944.28</td>\n      <td>176.89</td>\n      <td>327423.102519</td>\n      <td>4.316119e+06</td>\n      <td>327398.007549</td>\n      <td>4.316097e+06</td>\n      <td>327447.832708</td>\n      <td>4.316140e+06</td>\n      <td>-106.992277</td>\n      <td>38.977069</td>\n      <td>POLYGON ((327446.948 4316140.152, 327443.430 4...</td>\n    </tr>\n    <tr>\n      <th>6</th>\n      <td>CC-UC2</td>\n      <td>1538.63</td>\n      <td>157.11</td>\n      <td>319223.426529</td>\n      <td>4.299901e+06</td>\n      <td>319196.384466</td>\n      <td>4.299874e+06</td>\n      <td>319249.271857</td>\n      <td>4.299929e+06</td>\n      <td>-107.082607</td>\n      <td>38.829368</td>\n      <td>POLYGON ((319248.385 4299896.601, 319217.419 4...</td>\n    </tr>\n    <tr>\n      <th>7</th>\n      <td>XX-PLN2</td>\n      <td>1818.31</td>\n      <td>171.10</td>\n      <td>337801.998507</td>\n      <td>4.302205e+06</td>\n      <td>337775.829576</td>\n      <td>4.302177e+06</td>\n      <td>337826.470554</td>\n      <td>4.302231e+06</td>\n      <td>-106.869228</td>\n      <td>38.853734</td>\n      <td>POLYGON ((337825.587 4302220.530, 337818.147 4...</td>\n    </tr>\n    <tr>\n      <th>8</th>\n      <td>XX-CAR1</td>\n      <td>1516.91</td>\n      <td>157.03</td>\n      <td>324523.481959</td>\n      <td>4.299187e+06</td>\n      <td>324496.662428</td>\n      <td>4.299165e+06</td>\n      <td>324549.502483</td>\n      <td>4.299208e+06</td>\n      <td>-107.021400</td>\n      <td>38.824003</td>\n      <td>POLYGON ((324548.617 4299202.260, 324536.204 4...</td>\n    </tr>\n    <tr>\n      <th>9</th>\n      <td>SG-NES2</td>\n      <td>1472.71</td>\n      <td>153.70</td>\n      <td>327781.177429</td>\n      <td>4.310932e+06</td>\n      <td>327759.284432</td>\n      <td>4.310911e+06</td>\n      <td>327804.486267</td>\n      <td>4.310953e+06</td>\n      <td>-106.986841</td>\n      <td>38.930426</td>\n      <td>POLYGON ((327803.601 4310948.312, 327795.439 4...</td>\n    </tr>\n    <tr>\n      <th>10</th>\n      <td>ER-BME2</td>\n      <td>1483.96</td>\n      <td>154.34</td>\n      <td>325233.109330</td>\n      <td>4.316933e+06</td>\n      <td>325213.219764</td>\n      <td>4.316913e+06</td>\n      <td>325253.159221</td>\n      <td>4.316953e+06</td>\n      <td>-107.017749</td>\n      <td>38.983970</td>\n      <td>POLYGON ((325252.274 4316913.555, 325212.833 4...</td>\n    </tr>\n    <tr>\n      <th>11</th>\n      <td>ER-BME1</td>\n      <td>1605.70</td>\n      <td>160.70</td>\n      <td>324117.327461</td>\n      <td>4.316075e+06</td>\n      <td>324094.267495</td>\n      <td>4.316053e+06</td>\n      <td>324136.994521</td>\n      <td>4.316098e+06</td>\n      <td>-107.030406</td>\n      <td>38.976018</td>\n      <td>POLYGON ((324136.109 4316057.647, 324099.958 4...</td>\n    </tr>\n    <tr>\n      <th>12</th>\n      <td>ER-APU1</td>\n      <td>1501.92</td>\n      <td>155.33</td>\n      <td>328460.395673</td>\n      <td>4.316326e+06</td>\n      <td>328436.649743</td>\n      <td>4.316301e+06</td>\n      <td>328485.988310</td>\n      <td>4.316352e+06</td>\n      <td>-106.980358</td>\n      <td>38.979139</td>\n      <td>POLYGON ((328485.104 4316314.960, 328448.263 4...</td>\n    </tr>\n    <tr>\n      <th>13</th>\n      <td>ER-GT1</td>\n      <td>1692.87</td>\n      <td>165.23</td>\n      <td>326237.765162</td>\n      <td>4.316162e+06</td>\n      <td>326209.004360</td>\n      <td>4.316133e+06</td>\n      <td>326267.092899</td>\n      <td>4.316190e+06</td>\n      <td>-107.005961</td>\n      <td>38.977226</td>\n      <td>POLYGON ((326266.208 4316162.315, 326230.005 4...</td>\n    </tr>\n  </tbody>\n</table>\n</div>"
     },
     "metadata": {},
     "execution_count": 209
    }
   ],
   "source": [
    "# Show the cleaned geodataframe\n",
    "kplots_gpdf_clean"
   ]
  },
  {
   "cell_type": "code",
   "execution_count": 211,
   "metadata": {},
   "outputs": [],
   "source": [
    "# Export the cleaned geodataframe as a shapefile\n",
    "kplots_gpdf_clean.to_file(os.sep.join([out_dir, 'Kueppers_EastRiver_Plot_Shapefiles_2020_WGS84UTM13N', 'AllPlots', 'Kueppers_EastRiver_AllPlots_2020_WGS84UTM13N.shp']))"
   ]
  },
  {
   "source": [
    "## 4. Clean the polygon shapefiles"
   ],
   "cell_type": "markdown",
   "metadata": {}
  },
  {
   "cell_type": "code",
   "execution_count": 168,
   "metadata": {},
   "outputs": [
    {
     "output_type": "execute_result",
     "data": {
      "text/plain": [
       "['XX-PLN2_Bound_poly_WGS84UTM13N.shp',\n",
       " 'CC-UC2_Bound_poly_WGS84UTM13N.shp',\n",
       " 'SG-SWR1_Bound_poly_WGS84UTM13N.shp',\n",
       " 'ER-BME1_Bound_poly_WGS84UTM13N.shp',\n",
       " 'XX-CAR2_Bound_poly_WGS84UTM13N.shp',\n",
       " 'ER-GT1_Bound_poly_WGS84UTM13N.shp',\n",
       " 'ER-APU1_Bound_poly_WGS84UTM13N.shp',\n",
       " 'ER-BME2_Bound_poly_WGS84UTM13N.shp',\n",
       " 'SG-NES2_Bound_poly_WGS84UTM13N.shp',\n",
       " 'XX-PLN1_Bound_poly_WGS84UTM13N.shp',\n",
       " 'CC-UC1_Bound_poly_WGS84UTM13N.shp',\n",
       " 'WG-WGM1_Bound_poly_WGS84UTM13N.shp',\n",
       " 'XX-CAR1_Bound_poly_WGS84UTM13N.shp',\n",
       " 'ER-APL1_Bound_poly_WGS84UTM13N.shp']"
      ]
     },
     "metadata": {},
     "execution_count": 168
    }
   ],
   "source": [
    "# Print the list of shapefiles\n",
    "polys"
   ]
  },
  {
   "cell_type": "code",
   "execution_count": 172,
   "metadata": {},
   "outputs": [
    {
     "output_type": "stream",
     "name": "stdout",
     "text": [
      "(1, 16)\n"
     ]
    },
    {
     "output_type": "execute_result",
     "data": {
      "text/plain": [
       "   Id    POLY_AREA     AREA_GEO   PERIMETER   PERIM_GEO     CENTROID_X  \\\n",
       "0   0  1818.032892  1818.309599  171.090087  171.103097  337801.998507   \n",
       "\n",
       "     CENTROID_Y  PNT_COUNT      EXT_MIN_X     EXT_MIN_Y      EXT_MAX_X  \\\n",
       "0  4.302205e+06        5.0  337775.829576  4.302177e+06  337826.470554   \n",
       "\n",
       "      EXT_MAX_Y   GEOMCTR_X  GEOMCTR_Y  Plot_ID  \\\n",
       "0  4.302231e+06 -106.869228  38.853734  XX-PLN2   \n",
       "\n",
       "                                            geometry  \n",
       "0  POLYGON ((337825.587 4302220.530, 337818.147 4...  "
      ],
      "text/html": "<div>\n<style scoped>\n    .dataframe tbody tr th:only-of-type {\n        vertical-align: middle;\n    }\n\n    .dataframe tbody tr th {\n        vertical-align: top;\n    }\n\n    .dataframe thead th {\n        text-align: right;\n    }\n</style>\n<table border=\"1\" class=\"dataframe\">\n  <thead>\n    <tr style=\"text-align: right;\">\n      <th></th>\n      <th>Id</th>\n      <th>POLY_AREA</th>\n      <th>AREA_GEO</th>\n      <th>PERIMETER</th>\n      <th>PERIM_GEO</th>\n      <th>CENTROID_X</th>\n      <th>CENTROID_Y</th>\n      <th>PNT_COUNT</th>\n      <th>EXT_MIN_X</th>\n      <th>EXT_MIN_Y</th>\n      <th>EXT_MAX_X</th>\n      <th>EXT_MAX_Y</th>\n      <th>GEOMCTR_X</th>\n      <th>GEOMCTR_Y</th>\n      <th>Plot_ID</th>\n      <th>geometry</th>\n    </tr>\n  </thead>\n  <tbody>\n    <tr>\n      <th>0</th>\n      <td>0</td>\n      <td>1818.032892</td>\n      <td>1818.309599</td>\n      <td>171.090087</td>\n      <td>171.103097</td>\n      <td>337801.998507</td>\n      <td>4.302205e+06</td>\n      <td>5.0</td>\n      <td>337775.829576</td>\n      <td>4.302177e+06</td>\n      <td>337826.470554</td>\n      <td>4.302231e+06</td>\n      <td>-106.869228</td>\n      <td>38.853734</td>\n      <td>XX-PLN2</td>\n      <td>POLYGON ((337825.587 4302220.530, 337818.147 4...</td>\n    </tr>\n  </tbody>\n</table>\n</div>"
     },
     "metadata": {},
     "execution_count": 172
    }
   ],
   "source": [
    "# Print one of the geodataframes\n",
    "print(polys_gpdf_ls[0].shape)\n",
    "polys_gpdf_ls[0]\n",
    "\n",
    "# Note these should have a single entry with 16 fields"
   ]
  },
  {
   "cell_type": "code",
   "execution_count": 205,
   "metadata": {},
   "outputs": [
    {
     "output_type": "stream",
     "name": "stdout",
     "text": [
      "0    XX-PLN2\nName: Plot_ID, dtype: object\n0    CC-UC2\nName: Plot_ID, dtype: object\n0    SG-SWR1\nName: Plot_ID, dtype: object\n0    ER-BME1\nName: Plot_ID, dtype: object\n0    XX-CAR2\nName: Plot_ID, dtype: object\n0    ER-GT1\nName: Plot_ID, dtype: object\n0    ER-APU1\nName: Plot_ID, dtype: object\n0    ER-BME2\nName: Plot_ID, dtype: object\n0    SG-NES2\nName: Plot_ID, dtype: object\n0    XX-PLN1\nName: Plot_ID, dtype: object\n0    CC-UC1\nName: Plot_ID, dtype: object\n0    WG-WGM1\nName: Plot_ID, dtype: object\n0    XX-CAR1\nName: Plot_ID, dtype: object\n0    ER-APL1\nName: Plot_ID, dtype: object\n"
     ]
    }
   ],
   "source": [
    "polys_gpdf_clean_ls = []\n",
    "for sf, i in zip(polys_gpdf_ls, polys):\n",
    "\n",
    "    # Select columns to preserve\n",
    "    sf_clean = sf[[\n",
    "    'Plot_ID',\n",
    "    'AREA_GEO', \n",
    "    'PERIM_GEO', \n",
    "    'CENTROID_X', \n",
    "    'CENTROID_Y',\n",
    "    'EXT_MIN_X',\n",
    "    'EXT_MIN_Y',\n",
    "    'EXT_MAX_X',\n",
    "    'EXT_MAX_Y',\n",
    "    'GEOMCTR_X',\n",
    "    'GEOMCTR_Y',\n",
    "    'geometry']]\n",
    "\n",
    "    # Add plot ID\n",
    "    sf.Plot_ID = i[:7].strip('_')\n",
    "\n",
    "    # Round area and perimeter estimates to proper sigfigs\n",
    "    sf_clean.AREA_GEO = round(sf.AREA_GEO,2)\n",
    "    sf_clean.PERIM_GEO = round(sf.PERIM_GEO,2)\n",
    "\n",
    "    # Rename columns\n",
    "    sf_clean.columns = [\n",
    "        'PLOT_ID',\n",
    "        'AREA_GEO',\n",
    "        'PERIM_GEO',\n",
    "        'CENTROID_X',\n",
    "        'CENTROID_Y',\n",
    "        'EXT_MIN_X',\n",
    "        'EXT_MIN_Y',\n",
    "        'EXT_MAX_X',\n",
    "        'EXT_MAX_Y',\n",
    "        'GEOMCTR_X',\n",
    "        'GEOMCTR_Y',\n",
    "        'geometry']\n",
    "    \n",
    "    polys_gpdf_clean_ls.append(sf_clean)"
   ]
  },
  {
   "cell_type": "code",
   "execution_count": 220,
   "metadata": {},
   "outputs": [
    {
     "output_type": "stream",
     "name": "stdout",
     "text": [
      "[(1, 12), (1, 12), (1, 12), (1, 12), (1, 12), (1, 12), (1, 12), (1, 12), (1, 12), (1, 12), (1, 12), (1, 12), (1, 12), (1, 12)]\n"
     ]
    },
    {
     "output_type": "execute_result",
     "data": {
      "text/plain": [
       "   PLOT_ID  AREA_GEO  PERIM_GEO    CENTROID_X    CENTROID_Y      EXT_MIN_X  \\\n",
       "0  ER-BME2   1483.96     154.34  325233.10933  4.316933e+06  325213.219764   \n",
       "\n",
       "      EXT_MIN_Y      EXT_MAX_X     EXT_MAX_Y   GEOMCTR_X  GEOMCTR_Y  \\\n",
       "0  4.316913e+06  325253.159221  4.316953e+06 -107.017749   38.98397   \n",
       "\n",
       "                                            geometry  \n",
       "0  POLYGON ((325252.274 4316913.555, 325212.833 4...  "
      ],
      "text/html": "<div>\n<style scoped>\n    .dataframe tbody tr th:only-of-type {\n        vertical-align: middle;\n    }\n\n    .dataframe tbody tr th {\n        vertical-align: top;\n    }\n\n    .dataframe thead th {\n        text-align: right;\n    }\n</style>\n<table border=\"1\" class=\"dataframe\">\n  <thead>\n    <tr style=\"text-align: right;\">\n      <th></th>\n      <th>PLOT_ID</th>\n      <th>AREA_GEO</th>\n      <th>PERIM_GEO</th>\n      <th>CENTROID_X</th>\n      <th>CENTROID_Y</th>\n      <th>EXT_MIN_X</th>\n      <th>EXT_MIN_Y</th>\n      <th>EXT_MAX_X</th>\n      <th>EXT_MAX_Y</th>\n      <th>GEOMCTR_X</th>\n      <th>GEOMCTR_Y</th>\n      <th>geometry</th>\n    </tr>\n  </thead>\n  <tbody>\n    <tr>\n      <th>0</th>\n      <td>ER-BME2</td>\n      <td>1483.96</td>\n      <td>154.34</td>\n      <td>325233.10933</td>\n      <td>4.316933e+06</td>\n      <td>325213.219764</td>\n      <td>4.316913e+06</td>\n      <td>325253.159221</td>\n      <td>4.316953e+06</td>\n      <td>-107.017749</td>\n      <td>38.98397</td>\n      <td>POLYGON ((325252.274 4316913.555, 325212.833 4...</td>\n    </tr>\n  </tbody>\n</table>\n</div>"
     },
     "metadata": {},
     "execution_count": 220
    }
   ],
   "source": [
    "## Check to make sure they were processed correctly\n",
    "print([i.shape for i in polys_gpdf_clean_ls])\n",
    "polys_gpdf_clean_ls[7]"
   ]
  },
  {
   "cell_type": "code",
   "execution_count": 207,
   "metadata": {},
   "outputs": [],
   "source": [
    "# Export each geodataframe to a shapefile with appropriate name\n",
    "for sfc, sf in zip(polys_gpdf_clean_ls, polys):\n",
    "    sfc.to_file(os.sep.join([out_dir, 'Kueppers_EastRiver_Plot_Shapefiles_2020_WGS84UTM13N', 'Polygons', sf]))"
   ]
  },
  {
   "source": [
    "## 5. Clean the lines shapefiles"
   ],
   "cell_type": "markdown",
   "metadata": {}
  },
  {
   "cell_type": "code",
   "execution_count": 226,
   "metadata": {},
   "outputs": [
    {
     "output_type": "execute_result",
     "data": {
      "text/plain": [
       "['ER-APL1_Bound_lines_WGS84UTM13N.shp',\n",
       " 'XX-CAR1_Bound_lines_WGS84UTM13N.shp',\n",
       " 'ER-BME1_Bound_lines_WGS84UTM13N.shp',\n",
       " 'SG-NES2_Bound_lines_WGS84UTM13N.shp',\n",
       " 'CC-UC2_Bound_lines_WGS84UTM13N.shp',\n",
       " 'ER-APU1_Bound_lines_WGS84UTM13N.shp',\n",
       " 'XX-PLN1_Bound_lines_WGS84UTM13N.shp',\n",
       " 'SG-SWR1_Bound_lines_WGS84UTM13N.shp',\n",
       " 'XX-PLN2_Bound_lines_WGS84UTM13N.shp',\n",
       " 'CC-UC1_Bound_lines_WGS84UTM13N.shp',\n",
       " 'WG-WGM1_Bound_lines_WGS84UTM13N.shp',\n",
       " 'ER-GT1_Bound_lines_WGS84UTM13N.shp',\n",
       " 'ER-BME2_Bound_lines_WGS84UTM13N.shp',\n",
       " 'XX-CAR2_Bound_lines_WGS84UTM13N.shp']"
      ]
     },
     "metadata": {},
     "execution_count": 226
    }
   ],
   "source": [
    "# Print the list of shapefiles\n",
    "lines"
   ]
  },
  {
   "cell_type": "code",
   "execution_count": 229,
   "metadata": {},
   "outputs": [
    {
     "output_type": "stream",
     "name": "stdout",
     "text": [
      "[(1, 3), (1, 3), (1, 3), (1, 3), (1, 3), (1, 3), (1, 3), (1, 3), (1, 3), (1, 3), (1, 3), (1, 3), (1, 3), (1, 3)]\n"
     ]
    },
    {
     "output_type": "execute_result",
     "data": {
      "text/plain": [
       "   Id Plot_ID                                           geometry\n",
       "0   0    None  LINESTRING (327397.123 4316140.235, 327446.948..."
      ],
      "text/html": "<div>\n<style scoped>\n    .dataframe tbody tr th:only-of-type {\n        vertical-align: middle;\n    }\n\n    .dataframe tbody tr th {\n        vertical-align: top;\n    }\n\n    .dataframe thead th {\n        text-align: right;\n    }\n</style>\n<table border=\"1\" class=\"dataframe\">\n  <thead>\n    <tr style=\"text-align: right;\">\n      <th></th>\n      <th>Id</th>\n      <th>Plot_ID</th>\n      <th>geometry</th>\n    </tr>\n  </thead>\n  <tbody>\n    <tr>\n      <th>0</th>\n      <td>0</td>\n      <td>None</td>\n      <td>LINESTRING (327397.123 4316140.235, 327446.948...</td>\n    </tr>\n  </tbody>\n</table>\n</div>"
     },
     "metadata": {},
     "execution_count": 229
    }
   ],
   "source": [
    "# Print one of the geodataframes\n",
    "print([i.shape for i in lines_gpdf_ls])\n",
    "lines_gpdf_ls[0]\n",
    "\n",
    "# Note these should have a single entry with 3 fields"
   ]
  },
  {
   "cell_type": "code",
   "execution_count": 230,
   "metadata": {},
   "outputs": [],
   "source": [
    "lines_gpdf_clean_ls = []\n",
    "for sf, name in zip(lines_gpdf_ls, lines):\n",
    "    \n",
    "    # Rename and drop columns\n",
    "    sf_clean = sf.rename(columns = {'Plot_ID':'PLOT_ID'})\n",
    "    sf_clean = sf_clean.drop(columns = 'Id')\n",
    "    \n",
    "    # Add Plot ID\n",
    "    sf_clean.PLOT_ID = name[:7].strip('_')\n",
    "\n",
    "    # Export to shapefile \n",
    "    sf_clean.to_file(os.sep.join([out_dir, 'Kueppers_EastRiver_Plot_Shapefiles_2020_WGS84UTM13N', 'Lines', name]))\n",
    "\n",
    "    # Append to list\n",
    "    lines_gpdf_clean_ls.append(sf_clean)"
   ]
  },
  {
   "source": [
    "## 6. Clean the center points shapefiles"
   ],
   "cell_type": "markdown",
   "metadata": {}
  },
  {
   "cell_type": "code",
   "execution_count": 237,
   "metadata": {},
   "outputs": [
    {
     "output_type": "execute_result",
     "data": {
      "text/plain": [
       "['XX-CAR2_PlotCenter_WGS84UTM13N.shp',\n",
       " 'XX-PLN2_PlotCenter_WGS84UTM13N.shp',\n",
       " 'CC-UC2_PlotCenter_WGS84UTM13N.shp',\n",
       " 'ER-BME1_PlotCenter_WGS84UTM13N.shp',\n",
       " 'SG-SWR1_PlotCenter_WGS84UTM13N.shp',\n",
       " 'XX-CAR1_PlotCenter_WGS84UTM13N.shp',\n",
       " 'ER-APL1_PlotCenter_WGS84UTM13N.shp',\n",
       " 'ER-BME2_PlotCenter_WGS84UTM13N.shp',\n",
       " 'ER-APU1_PlotCenter_WGS84UTM13N.shp',\n",
       " 'ER-GT1_PlotCenter_WGS84UTM13N.shp',\n",
       " 'WG-WGM1_PlotCenter_WGS84UTM13N.shp',\n",
       " 'XX-PLN1_PlotCenter_WGS84UTM13N.shp',\n",
       " 'CC-UC1_PlotCenter_WGS84UTM13N.shp',\n",
       " 'SG-NES2_PlotCenter_WGS84UTM13N.shp']"
      ]
     },
     "metadata": {},
     "execution_count": 237
    }
   ],
   "source": [
    "# Print the list of shapefiles\n",
    "centerpts"
   ]
  },
  {
   "cell_type": "code",
   "execution_count": 238,
   "metadata": {},
   "outputs": [
    {
     "output_type": "stream",
     "name": "stdout",
     "text": [
      "[(1, 5), (1, 5), (1, 5), (1, 5), (1, 5), (1, 5), (1, 5), (1, 5), (1, 5), (1, 5), (1, 5), (1, 5), (1, 5), (1, 5)]\n"
     ]
    },
    {
     "output_type": "execute_result",
     "data": {
      "text/plain": [
       "[   Id         XCoord        YCoord  Plot_ID                        geometry\n",
       " 0   0  321926.176021  4.297228e+06  XX-CAR2  POINT (321926.176 4297228.027),\n",
       "    Id         XCoord        YCoord  Plot_ID                        geometry\n",
       " 0   0  337801.114768  4.302205e+06  XX-PLN2  POINT (337801.115 4302205.348),\n",
       "    Id         XCoord        YCoord Plot_ID                        geometry\n",
       " 0   0  319222.540102  4.299902e+06  CC-UC2  POINT (319222.540 4299902.141),\n",
       "    Id         XCoord        YCoord  Plot_ID                        geometry\n",
       " 0   0  324116.442222  4.316076e+06  ER-BME1  POINT (324116.442 4316076.197),\n",
       "    Id         XCoord        YCoord Plot_ID                        geometry\n",
       " 0   0  327967.886322  4.309997e+06  WG-SG2  POINT (327967.886 4309996.908),\n",
       "    Id         XCoord        YCoord  Plot_ID                        geometry\n",
       " 0   0  324522.596256  4.299187e+06  XX-CAR1  POINT (324522.596 4299187.326),\n",
       "    Id         XCoord        YCoord  Plot_ID                        geometry\n",
       " 0   0  327422.217745  4.316120e+06  ER-APL1  POINT (327422.218 4316119.628),\n",
       "    Id         XCoord        YCoord  Plot_ID                        geometry\n",
       " 0   0  325232.224274  4.316934e+06  ER-BME2  POINT (325232.224 4316934.111),\n",
       "    Id         XCoord        YCoord  Plot_ID                        geometry\n",
       " 0   0  328459.511052  4.316327e+06  ER-APU1  POINT (328459.511 4316326.844),\n",
       "    Id         XCoord        YCoord Plot_ID                        geometry\n",
       " 0   0  326236.880224  4.316163e+06  ER-GT1  POINT (326236.880 4316163.092),\n",
       "    Id         XCoord        YCoord  Plot_ID                        geometry\n",
       " 0   0  324397.838691  4.313022e+06  WG-WGM1  POINT (324397.839 4313021.678),\n",
       "    Id         XCoord        YCoord  Plot_ID                        geometry\n",
       " 0   0  337758.617869  4.302957e+06  XX-PLN1  POINT (337758.618 4302957.336),\n",
       "    Id         XCoord        YCoord Plot_ID                        geometry\n",
       " 0   0  320848.100635  4.301037e+06  CC-UC1  POINT (320848.101 4301037.169),\n",
       "    Id         XCoord        YCoord Plot_ID                        geometry\n",
       " 0   0  327780.292547  4.310932e+06  WG-SG1  POINT (327780.293 4310932.385)]"
      ]
     },
     "metadata": {},
     "execution_count": 238
    }
   ],
   "source": [
    "# Print one of the geodataframes\n",
    "print([i.shape for i in centerpts_gpdf_ls])\n",
    "centerpts_gpdf_ls\n",
    "\n",
    "# Note these should have a single entry with 5 fields"
   ]
  },
  {
   "cell_type": "code",
   "execution_count": 247,
   "metadata": {},
   "outputs": [],
   "source": [
    "centerpts_gpdf_clean_ls = []\n",
    "for sf, name in zip(centerpts_gpdf_ls, centerpts):\n",
    "    \n",
    "    # Rename and drop columns\n",
    "    sf_clean = sf.drop(columns = 'Id')\n",
    "    sf_clean = sf_clean.rename(columns = {'Plot_ID':'PLOT_ID', 'XCoord':'X_COORD', 'YCoord':'Y_COORD'})\n",
    "    sf_clean = sf_clean[['PLOT_ID', 'X_COORD', 'Y_COORD', 'geometry']]\n",
    "    \n",
    "    # Add Plot ID\n",
    "    sf_clean.PLOT_ID = name[:7].strip('_')\n",
    "\n",
    "    # Export to shapefile \n",
    "    sf_clean.to_file(os.sep.join([out_dir, 'Kueppers_EastRiver_Plot_Shapefiles_2020_WGS84UTM13N', 'Center_Points', name]))\n",
    "\n",
    "    # Append to list\n",
    "    centerpts_gpdf_clean_ls.append(sf_clean)"
   ]
  },
  {
   "cell_type": "code",
   "execution_count": 248,
   "metadata": {},
   "outputs": [
    {
     "output_type": "execute_result",
     "data": {
      "text/plain": [
       "[   PLOT_ID        X_COORD       Y_COORD                        geometry\n",
       " 0  XX-CAR2  321926.176021  4.297228e+06  POINT (321926.176 4297228.027),\n",
       "    PLOT_ID        X_COORD       Y_COORD                        geometry\n",
       " 0  XX-PLN2  337801.114768  4.302205e+06  POINT (337801.115 4302205.348),\n",
       "   PLOT_ID        X_COORD       Y_COORD                        geometry\n",
       " 0  CC-UC2  319222.540102  4.299902e+06  POINT (319222.540 4299902.141),\n",
       "    PLOT_ID        X_COORD       Y_COORD                        geometry\n",
       " 0  ER-BME1  324116.442222  4.316076e+06  POINT (324116.442 4316076.197),\n",
       "    PLOT_ID        X_COORD       Y_COORD                        geometry\n",
       " 0  SG-SWR1  327967.886322  4.309997e+06  POINT (327967.886 4309996.908),\n",
       "    PLOT_ID        X_COORD       Y_COORD                        geometry\n",
       " 0  XX-CAR1  324522.596256  4.299187e+06  POINT (324522.596 4299187.326),\n",
       "    PLOT_ID        X_COORD       Y_COORD                        geometry\n",
       " 0  ER-APL1  327422.217745  4.316120e+06  POINT (327422.218 4316119.628),\n",
       "    PLOT_ID        X_COORD       Y_COORD                        geometry\n",
       " 0  ER-BME2  325232.224274  4.316934e+06  POINT (325232.224 4316934.111),\n",
       "    PLOT_ID        X_COORD       Y_COORD                        geometry\n",
       " 0  ER-APU1  328459.511052  4.316327e+06  POINT (328459.511 4316326.844),\n",
       "   PLOT_ID        X_COORD       Y_COORD                        geometry\n",
       " 0  ER-GT1  326236.880224  4.316163e+06  POINT (326236.880 4316163.092),\n",
       "    PLOT_ID        X_COORD       Y_COORD                        geometry\n",
       " 0  WG-WGM1  324397.838691  4.313022e+06  POINT (324397.839 4313021.678),\n",
       "    PLOT_ID        X_COORD       Y_COORD                        geometry\n",
       " 0  XX-PLN1  337758.617869  4.302957e+06  POINT (337758.618 4302957.336),\n",
       "   PLOT_ID        X_COORD       Y_COORD                        geometry\n",
       " 0  CC-UC1  320848.100635  4.301037e+06  POINT (320848.101 4301037.169),\n",
       "    PLOT_ID        X_COORD       Y_COORD                        geometry\n",
       " 0  SG-NES2  327780.292547  4.310932e+06  POINT (327780.293 4310932.385)]"
      ]
     },
     "metadata": {},
     "execution_count": 248
    }
   ],
   "source": [
    "centerpts_gpdf_clean_ls"
   ]
  },
  {
   "source": [
    "## 7. Clean the corner points shapefiles"
   ],
   "cell_type": "markdown",
   "metadata": {}
  },
  {
   "cell_type": "code",
   "execution_count": 233,
   "metadata": {},
   "outputs": [
    {
     "output_type": "execute_result",
     "data": {
      "text/plain": [
       "['XX-PLN2_Bound_pts_WGS84UTM13N.shp',\n",
       " 'ER-BME2_Bound_pts_WGS84UTM13N.shp',\n",
       " 'ER-APL1_Bound_pts_WGS84UTM13N.shp',\n",
       " 'XX-CAR2_Bound_pts_WGS84UTM13N.shp',\n",
       " 'CC-UC1_Bound_pts_WGS84UTM13N.shp',\n",
       " 'ER-APU1_Bound_pts_WGS84UTM13N.shp',\n",
       " 'ER-BME1_Bound_pts_WGS84UTM13N.shp',\n",
       " 'XX-PLN1_Bound_pts_WGS84UTM13N.shp',\n",
       " 'WG-WGM1_Bound_pts_WGS84UTM13N.shp',\n",
       " 'CC-UC2_Bound_pts_WGS84UTM13N.shp',\n",
       " 'SG-NES2_Bound_pts_WGS84UTM13N.shp',\n",
       " 'ER-GT1_Bound_pts_WGS84UTM13N.shp',\n",
       " 'SG-SWR1_Bound_pts_WGS84UTM13N.shp',\n",
       " 'XX-CAR1_Bound_pts_WGS84UTM13N.shp']"
      ]
     },
     "metadata": {},
     "execution_count": 233
    }
   ],
   "source": [
    "# Print the list of shapefiles\n",
    "cornerpts"
   ]
  },
  {
   "cell_type": "code",
   "execution_count": 392,
   "metadata": {},
   "outputs": [
    {
     "output_type": "stream",
     "name": "stdout",
     "text": [
      "[(4, 24), (4, 7), (4, 7), (4, 24), (4, 7), (4, 7), (4, 7), (4, 7), (4, 7), (4, 7), (4, 7), (4, 7), (4, 7), (4, 24)]\n"
     ]
    },
    {
     "output_type": "execute_result",
     "data": {
      "text/plain": [
       "[     Comment  Max_PDOP  Max_HDOP           Corr_Type Rcvr_Type    GPS_Date  \\\n",
       " 0       None      12.3       5.8  Postprocessed Code    Geo 7X  2019-09-16   \n",
       " 1  NE corner       7.8       4.0  Postprocessed Code    Geo 7X  2019-09-16   \n",
       " 2  SE corner       2.4       1.3  Postprocessed Code    Geo 7X  2019-09-16   \n",
       " 3  SW corner       4.1       2.1  Postprocessed Code    Geo 7X  2019-09-16   \n",
       " \n",
       "      GPS_Time Update_Sta Feat_Name          Datafile  ...  GPS_Second  \\\n",
       " 0  01:54:43pm        New  Point_ge  BAGSHAW_PL2A.cor  ...    161700.0   \n",
       " 1  01:59:22pm        New  Point_ge  BAGSHAW_PL2B.cor  ...    161979.0   \n",
       " 2  02:02:04pm        New  Point_ge  BAGSHAW_PL2C.cor  ...    162141.0   \n",
       " 3  02:04:54pm        New  Point_ge  BAGSHAW_PL2D.cor  ...    162311.0   \n",
       " \n",
       "    GNSS_Heigh Vert_Prec  Horz_Prec   Std_Dev      Latitude       Longitude  \\\n",
       " 0    3138.714       2.2        2.0  0.193896  38.853614604  -106.869529354   \n",
       " 1    3138.684       2.0        1.6  0.310542  38.853964070  -106.869423436   \n",
       " 2    3137.629       2.3        1.8  0.230165  38.853872713  -106.868952554   \n",
       " 3    3152.490       1.9        1.4  0.623260  38.853486668  -106.869028184   \n",
       " \n",
       "    Point_ID  Plot_ID                        geometry  \n",
       " 0         1     None  POINT (337774.946 4302192.909)  \n",
       " 1         1     None  POINT (337784.931 4302231.505)  \n",
       " 2         1     None  POINT (337825.587 4302220.530)  \n",
       " 3         1     None  POINT (337818.147 4302177.820)  \n",
       " \n",
       " [4 rows x 24 columns],\n",
       "    Id         XCoord        YCoord Corners  Horz_Prec Plot_ID  \\\n",
       " 0   0  325250.912576  4.316953e+06      1N   0.506024    None   \n",
       " 1   0  325253.159221  4.316913e+06      2E   0.734694    None   \n",
       " 2   0  325213.717827  4.316916e+06      3S   1.105512    None   \n",
       " 3   0  325213.219764  4.316952e+06      4W   1.452941    None   \n",
       " \n",
       "                          geometry  \n",
       " 0  POINT (325250.028 4316954.184)  \n",
       " 1  POINT (325252.274 4316913.555)  \n",
       " 2  POINT (325212.833 4316916.443)  \n",
       " 3  POINT (325212.335 4316952.820)  ,\n",
       "    Id         XCoord        YCoord Corner  Horz_Prec Plot_ID  \\\n",
       " 0   0  327398.007549  4.316140e+06    1NW   0.684411    None   \n",
       " 1   0  327447.832708  4.316139e+06    2NE   1.040150    None   \n",
       " 2   0  327444.314948  4.316097e+06    3SE   0.672517    None   \n",
       " 3   0  327402.272900  4.316097e+06    4SW   0.883495    None   \n",
       " \n",
       "                          geometry  \n",
       " 0  POINT (327397.123 4316140.235)  \n",
       " 1  POINT (327446.948 4316140.152)  \n",
       " 2  POINT (327443.430 4316097.828)  \n",
       " 3  POINT (327401.388 4316097.906)  ,\n",
       "      Comment  Max_PDOP  Max_HDOP           Corr_Type Rcvr_Type    GPS_Date  \\\n",
       " 0  nw corner       3.0       1.4  Postprocessed Code    Geo 7X  2019-09-13   \n",
       " 1  NE corner       3.1       1.3  Postprocessed Code    Geo 7X  2019-09-13   \n",
       " 2  SE corner       4.1       1.2  Postprocessed Code    Geo 7X  2019-09-13   \n",
       " 3  SW corner       3.4       1.6  Postprocessed Code    Geo 7X  2019-09-13   \n",
       " \n",
       "      GPS_Time Update_Sta Feat_Name             Datafile  ...  GPS_Second  \\\n",
       " 0  11:59:00am        New  Point_ge  BAGSHAW_CARBONA.cor  ...    500357.0   \n",
       " 1  12:03:40pm        New  Point_ge  BAGSHAW_CARBONB.cor  ...    500637.0   \n",
       " 2  12:08:44pm        New  Point_ge  BAGSHAW_CARBONC.cor  ...    500941.0   \n",
       " 3  12:12:58pm        New  Point_ge  BAGSHAW_CARBOND.cor  ...    501195.0   \n",
       " \n",
       "    GNSS_Heigh Vert_Prec  Horz_Prec   Std_Dev      Latitude       Longitude  \\\n",
       " 0    3405.534       3.4        2.5  0.162553  38.806019292  -107.050979525   \n",
       " 1    3402.076       3.2        2.2  0.297715  38.805987075  -107.050606876   \n",
       " 2    3423.862       1.7        1.0  0.164806  38.805688021  -107.050544196   \n",
       " 3    3413.741       2.0        1.1  0.187403  38.805672072  -107.050998840   \n",
       " \n",
       "    Point_ID  Plot_ID                        geometry  \n",
       " 0         1     None  POINT (321909.940 4297248.726)  \n",
       " 1         1     None  POINT (321942.220 4297244.424)  \n",
       " 2         1     None  POINT (321946.919 4297211.112)  \n",
       " 3         1     None  POINT (321907.397 4297210.228)  \n",
       " \n",
       " [4 rows x 24 columns],\n",
       "    Id         XCoord        YCoord Corners  Horz_Prec Plot_ID  \\\n",
       " 0   0  320831.303763  4.301053e+06     1NW   0.406780    None   \n",
       " 1   0  320867.887399  4.301054e+06     2NE   0.668354    None   \n",
       " 2   0  320864.132852  4.301015e+06     3SE   0.791209    None   \n",
       " 3   0  320829.547759  4.301023e+06     4SW   1.008917    None   \n",
       " \n",
       "                          geometry  \n",
       " 0  POINT (320830.418 4301054.071)  \n",
       " 1  POINT (320867.001 4301054.661)  \n",
       " 2  POINT (320863.247 4301015.870)  \n",
       " 3  POINT (320828.662 4301023.978)  ,\n",
       "    Id         XCoord        YCoord Corners  Horz_Prec Plot_ID  \\\n",
       " 0   0  328436.649743  4.316339e+06     1NW   1.041543    None   \n",
       " 1   0  328469.004179  4.316352e+06     2NE   0.705882    None   \n",
       " 2   0  328485.988310  4.316314e+06     3SE   0.480000    None   \n",
       " 3   0  328449.147294  4.316301e+06     4SW   0.553846    None   \n",
       " \n",
       "                          geometry  \n",
       " 0  POINT (328435.765 4316339.947)  \n",
       " 1  POINT (328468.120 4316352.385)  \n",
       " 2  POINT (328485.104 4316314.960)  \n",
       " 3  POINT (328448.263 4316301.564)  ,\n",
       "    Id         XCoord        YCoord Corner  Horz_Prec Plot_ID  \\\n",
       " 0   0  324094.267495  4.316092e+06    1NW   0.993311    None   \n",
       " 1   0  324136.973215  4.316098e+06    2NE   0.643564    None   \n",
       " 2   0  324136.994521  4.316057e+06    3SE   0.705069    None   \n",
       " 3   0  324100.843096  4.316053e+06    4SW   0.695541    None   \n",
       " \n",
       "                          geometry  \n",
       " 0  POINT (324093.382 4316092.487)  \n",
       " 1  POINT (324136.088 4316099.013)  \n",
       " 2  POINT (324136.109 4316057.647)  \n",
       " 3  POINT (324099.958 4316053.316)  ,\n",
       "    Id         XCoord        YCoord Corners  Horz_Prec Plot_ID  \\\n",
       " 0   0  337736.807200  4.302972e+06     1NW   1.368000    None   \n",
       " 1   0  337776.716656  4.302973e+06     2NE   0.529412    None   \n",
       " 2   0  337778.177932  4.302939e+06     3SE   0.838983    None   \n",
       " 3   0  337739.317835  4.302946e+06     4SW   1.958549    None   \n",
       " \n",
       "                          geometry  \n",
       " 0  POINT (337736.807 4302972.057)  \n",
       " 1  POINT (337776.717 4302972.626)  \n",
       " 2  POINT (337778.178 4302938.646)  \n",
       " 3  POINT (337739.318 4302945.909)  ,\n",
       "    Id         XCoord        YCoord Corners  Horz_Prec Plot_ID  \\\n",
       " 0   0  324373.194049  4.313025e+06     1NW   1.418491    None   \n",
       " 1   0  324400.621674  4.313048e+06     2NE   1.595051    None   \n",
       " 2   0  324424.847580  4.313019e+06     3SE   1.715043    None   \n",
       " 3   0  324395.863823  4.312994e+06     4SW   0.318058    None   \n",
       " \n",
       "                          geometry  \n",
       " 0  POINT (324372.309 4313025.450)  \n",
       " 1  POINT (324399.736 4313048.341)  \n",
       " 2  POINT (324423.962 4313019.558)  \n",
       " 3  POINT (324394.979 4312994.263)  ,\n",
       "    Id         XCoord        YCoord Corners  Horz_Prec Plot_ID  \\\n",
       " 0   0  319230.729345  4.299929e+06      1N   1.523471    None   \n",
       " 1   0  319249.271857  4.299896e+06      2E   1.375796    None   \n",
       " 2   0  319218.305254  4.299874e+06      3S   0.611111    None   \n",
       " 3   0  319196.384466  4.299907e+06      4W   1.732075    None   \n",
       " \n",
       "                          geometry  \n",
       " 0  POINT (319229.843 4299929.928)  \n",
       " 1  POINT (319248.385 4299896.601)  \n",
       " 2  POINT (319217.419 4299874.246)  \n",
       " 3  POINT (319195.498 4299907.261)  ,\n",
       "    Id         XCoord        YCoord Corners  Horz_Prec Plot_ID  \\\n",
       " 0   0  327764.724763  4.310953e+06     1NW   0.763636    None   \n",
       " 1   0  327804.486267  4.310948e+06     2NE   0.738461    None   \n",
       " 2   0  327796.323882  4.310911e+06     3SE   0.926316    None   \n",
       " 3   0  327759.284432  4.310915e+06     4SW   0.772727    None   \n",
       " \n",
       "                          geometry  \n",
       " 0  POINT (327763.840 4310953.505)  \n",
       " 1  POINT (327803.601 4310948.312)  \n",
       " 2  POINT (327795.439 4310911.362)  \n",
       " 3  POINT (327758.400 4310915.392)  ,\n",
       "    Id         XCoord        YCoord Corner  Horz_Prec Plot_ID  \\\n",
       " 0   0  326267.092899  4.316162e+06     2E   0.793701    None   \n",
       " 1   0  326244.844607  4.316190e+06     1N   1.498068    None   \n",
       " 2   0  326230.889881  4.316133e+06     3S   1.374216    None   \n",
       " 3   0  326209.004360  4.316167e+06     4W   0.732550    None   \n",
       " \n",
       "                          geometry  \n",
       " 0  POINT (326266.208 4316162.315)  \n",
       " 1  POINT (326243.960 4316190.665)  \n",
       " 2  POINT (326230.005 4316133.638)  \n",
       " 3  POINT (326208.119 4316167.543)  ,\n",
       "    Id         XCoord        YCoord Corners  Horz_Prec Plot_ID  \\\n",
       " 0   0  327950.705138  4.310016e+06     1NW   0.741722    None   \n",
       " 1   0  327989.478774  4.310008e+06     2NE   1.215190    None   \n",
       " 2   0  327985.883228  4.309978e+06     3SE   0.693217    None   \n",
       " 3   0  327949.990483  4.309982e+06     4SW   1.038837    None   \n",
       " \n",
       "                          geometry  \n",
       " 0  POINT (327949.820 4310016.623)  \n",
       " 1  POINT (327988.594 4310009.047)  \n",
       " 2  POINT (327984.998 4309978.254)  \n",
       " 3  POINT (327949.106 4309982.655)  ,\n",
       "               Comment  Max_PDOP  Max_HDOP           Corr_Type Rcvr_Type  \\\n",
       " 0  carbon 1 se corner       3.0       1.6  Postprocessed Code    Geo 7X   \n",
       " 1  carbon 1 ne corner       3.8       1.6  Postprocessed Code    Geo 7X   \n",
       " 2  carbon 1 nw corner     141.3      99.9  Postprocessed Code    Geo 7X   \n",
       " 3  carbon 1 sw corner       3.5       1.8  Postprocessed Code    Geo 7X   \n",
       " \n",
       "      GPS_Date    GPS_Time Update_Sta Feat_Name             Datafile  ...  \\\n",
       " 0  2019-09-30  05:15:38pm        New  Point_ge  KUEPPERSL09306P.cor  ...   \n",
       " 1  2019-09-30  05:17:55pm        New  Point_ge  KUEPPERSL09306P.cor  ...   \n",
       " 2  2019-09-30  05:21:06pm        New  Point_ge  KUEPPERSL09306P.cor  ...   \n",
       " 3  2019-09-30  05:25:14pm        New  Point_ge  KUEPPERSL09306P.cor  ...   \n",
       " \n",
       "    GPS_Second  GNSS_Heigh Vert_Prec  Horz_Prec   Std_Dev      Latitude  \\\n",
       " 0    173755.0    3093.097       1.4        1.2  0.122806  38.823808139   \n",
       " 1    173892.0    3093.861       1.1        0.9  0.051630  38.824142241   \n",
       " 2    174083.0    3101.543       0.7        0.5  0.062036  38.824189400   \n",
       " 3    174331.0    3093.079       0.7        0.4  0.136930  38.823876326   \n",
       " \n",
       "         Longitude  Point_ID  Plot_ID                        geometry  \n",
       " 0  -107.021239732         1     None  POINT (324536.204 4299165.437)  \n",
       " 1  -107.021106202         2     None  POINT (324548.617 4299202.260)  \n",
       " 2  -107.021561337         3     None  POINT (324509.219 4299208.368)  \n",
       " 3  -107.021707314         4     None  POINT (324495.777 4299173.903)  \n",
       " \n",
       " [4 rows x 24 columns]]"
      ]
     },
     "metadata": {},
     "execution_count": 392
    }
   ],
   "source": [
    "# Print one of the geodataframes\n",
    "print([i.shape for i in cornerpts_gpdf_ls])\n",
    "cornerpts_gpdf_ls\n",
    "\n",
    "# Note these are mostly 4x7 dataframes, but XX-CAR1, XX-CAR2, XX-PL2 are longer because we didn't have new corner points to process in 2020"
   ]
  },
  {
   "cell_type": "code",
   "execution_count": 271,
   "metadata": {},
   "outputs": [
    {
     "output_type": "stream",
     "name": "stdout",
     "text": [
      "[Index(['Comment', 'Max_PDOP', 'Max_HDOP', 'Corr_Type', 'Rcvr_Type', 'GPS_Date',\n       'GPS_Time', 'Update_Sta', 'Feat_Name', 'Datafile', 'Unfilt_Pos',\n       'Filt_Pos', 'Data_Dicti', 'GPS_Week', 'GPS_Second', 'GNSS_Heigh',\n       'Vert_Prec', 'Horz_Prec', 'Std_Dev', 'Latitude', 'Longitude',\n       'Point_ID', 'Plot_ID', 'geometry'],\n      dtype='object'), Index(['Id', 'XCoord', 'YCoord', 'Corners', 'Horz_Prec', 'Plot_ID',\n       'geometry'],\n      dtype='object'), Index(['Id', 'XCoord', 'YCoord', 'Corner', 'Horz_Prec', 'Plot_ID', 'geometry'], dtype='object'), Index(['Comment', 'Max_PDOP', 'Max_HDOP', 'Corr_Type', 'Rcvr_Type', 'GPS_Date',\n       'GPS_Time', 'Update_Sta', 'Feat_Name', 'Datafile', 'Unfilt_Pos',\n       'Filt_Pos', 'Data_Dicti', 'GPS_Week', 'GPS_Second', 'GNSS_Heigh',\n       'Vert_Prec', 'Horz_Prec', 'Std_Dev', 'Latitude', 'Longitude',\n       'Point_ID', 'Plot_ID', 'geometry'],\n      dtype='object'), Index(['Id', 'XCoord', 'YCoord', 'Corners', 'Horz_Prec', 'Plot_ID',\n       'geometry'],\n      dtype='object'), Index(['Id', 'XCoord', 'YCoord', 'Corners', 'Horz_Prec', 'Plot_ID',\n       'geometry'],\n      dtype='object'), Index(['Id', 'XCoord', 'YCoord', 'Corner', 'Horz_Prec', 'Plot_ID', 'geometry'], dtype='object'), Index(['Id', 'XCoord', 'YCoord', 'Corners', 'Horz_Prec', 'Plot_ID',\n       'geometry'],\n      dtype='object'), Index(['Id', 'XCoord', 'YCoord', 'Corners', 'Horz_Prec', 'Plot_ID',\n       'geometry'],\n      dtype='object'), Index(['Id', 'XCoord', 'YCoord', 'Corners', 'Horz_Prec', 'Plot_ID',\n       'geometry'],\n      dtype='object'), Index(['Id', 'XCoord', 'YCoord', 'Corners', 'Horz_Prec', 'Plot_ID',\n       'geometry'],\n      dtype='object'), Index(['Id', 'XCoord', 'YCoord', 'Corner', 'Horz_Prec', 'Plot_ID', 'geometry'], dtype='object'), Index(['Id', 'XCoord', 'YCoord', 'Corners', 'Horz_Prec', 'Plot_ID',\n       'geometry'],\n      dtype='object'), Index(['Comment', 'Max_PDOP', 'Max_HDOP', 'Corr_Type', 'Rcvr_Type', 'GPS_Date',\n       'GPS_Time', 'Update_Sta', 'Feat_Name', 'Datafile', 'Unfilt_Pos',\n       'Filt_Pos', 'Data_Dicti', 'GPS_Week', 'GPS_Second', 'GNSS_Heigh',\n       'Vert_Prec', 'Horz_Prec', 'Std_Dev', 'Latitude', 'Longitude',\n       'Point_ID', 'Plot_ID', 'geometry'],\n      dtype='object')]\n"
     ]
    }
   ],
   "source": [
    "print([i.columns for i in cornerpts_gpdf_ls])"
   ]
  },
  {
   "cell_type": "code",
   "execution_count": 307,
   "metadata": {},
   "outputs": [
    {
     "output_type": "execute_result",
     "data": {
      "text/plain": [
       "14"
      ]
     },
     "metadata": {},
     "execution_count": 307
    }
   ],
   "source": [
    "len(cornerpts_gpdf_ls)"
   ]
  },
  {
   "cell_type": "code",
   "execution_count": 310,
   "metadata": {},
   "outputs": [
    {
     "output_type": "execute_result",
     "data": {
      "text/plain": [
       "['ER-BME2_Bound_pts_WGS84UTM13N.shp',\n",
       " 'ER-APL1_Bound_pts_WGS84UTM13N.shp',\n",
       " 'XX-CAR2_Bound_pts_WGS84UTM13N.shp',\n",
       " 'CC-UC1_Bound_pts_WGS84UTM13N.shp',\n",
       " 'ER-APU1_Bound_pts_WGS84UTM13N.shp',\n",
       " 'ER-BME1_Bound_pts_WGS84UTM13N.shp',\n",
       " 'XX-PLN1_Bound_pts_WGS84UTM13N.shp',\n",
       " 'WG-WGM1_Bound_pts_WGS84UTM13N.shp',\n",
       " 'CC-UC2_Bound_pts_WGS84UTM13N.shp',\n",
       " 'SG-NES2_Bound_pts_WGS84UTM13N.shp',\n",
       " 'ER-GT1_Bound_pts_WGS84UTM13N.shp',\n",
       " 'SG-SWR1_Bound_pts_WGS84UTM13N.shp',\n",
       " 'XX-CAR1_Bound_pts_WGS84UTM13N.shp']"
      ]
     },
     "metadata": {},
     "execution_count": 310
    }
   ],
   "source": [
    "cornerpts"
   ]
  },
  {
   "source": [
    "### First work on the 4x7 dataframes"
   ],
   "cell_type": "markdown",
   "metadata": {}
  },
  {
   "cell_type": "code",
   "execution_count": 433,
   "metadata": {},
   "outputs": [],
   "source": [
    "# For now we'll separate out the errant gpdfs (XX-CAR1, XX-CAR2, XX-PL2)\n",
    "cornerpts_gpdf_47_ls = cornerpts_gpdf_ls.copy()\n",
    "cornerpts_47 = cornerpts.copy()\n",
    "errants = [0,3,13]\n",
    "for index in sorted(errants, reverse=True):\n",
    "    del cornerpts_gpdf_47_ls[index]\n",
    "    del cornerpts_47[index]"
   ]
  },
  {
   "cell_type": "code",
   "execution_count": 434,
   "metadata": {},
   "outputs": [
    {
     "output_type": "execute_result",
     "data": {
      "text/plain": [
       "['ER-BME2_Bound_pts_WGS84UTM13N.shp',\n",
       " 'ER-APL1_Bound_pts_WGS84UTM13N.shp',\n",
       " 'CC-UC1_Bound_pts_WGS84UTM13N.shp',\n",
       " 'ER-APU1_Bound_pts_WGS84UTM13N.shp',\n",
       " 'ER-BME1_Bound_pts_WGS84UTM13N.shp',\n",
       " 'XX-PLN1_Bound_pts_WGS84UTM13N.shp',\n",
       " 'WG-WGM1_Bound_pts_WGS84UTM13N.shp',\n",
       " 'CC-UC2_Bound_pts_WGS84UTM13N.shp',\n",
       " 'SG-NES2_Bound_pts_WGS84UTM13N.shp',\n",
       " 'ER-GT1_Bound_pts_WGS84UTM13N.shp',\n",
       " 'SG-SWR1_Bound_pts_WGS84UTM13N.shp']"
      ]
     },
     "metadata": {},
     "execution_count": 434
    }
   ],
   "source": [
    "cornerpts_47"
   ]
  },
  {
   "cell_type": "code",
   "execution_count": 435,
   "metadata": {},
   "outputs": [],
   "source": [
    "cornerpts_gpdf_clean_ls = []\n",
    "\n",
    "for sf, name in zip(cornerpts_gpdf_47_ls, cornerpts_47):\n",
    "    \n",
    "    # Rename and drop columns\n",
    "    sf_clean = sf.drop(columns = 'Id')\n",
    "    sf_clean = sf_clean.rename(columns = {'Plot_ID':'PLOT_ID', 'XCoord':'X_COORD', 'YCoord':'Y_COORD', 'Corners':'CORNER', 'Corner':'CORNER', 'Horz_Prec':'HORZ_PREC'})\n",
    "    sf_clean = sf_clean[['PLOT_ID', 'CORNER', 'X_COORD', 'Y_COORD', 'HORZ_PREC', 'geometry']].sort_values(by = 'CORNER', axis = 0)\n",
    "    \n",
    "    # Add Plot ID\n",
    "    sf_clean.PLOT_ID = name[:7].strip('_')\n",
    "\n",
    "    # Append to list\n",
    "    cornerpts_gpdf_clean_ls.append(sf_clean)"
   ]
  },
  {
   "cell_type": "code",
   "execution_count": 436,
   "metadata": {},
   "outputs": [
    {
     "output_type": "execute_result",
     "data": {
      "text/plain": [
       "   PLOT_ID CORNER        X_COORD       Y_COORD  HORZ_PREC  \\\n",
       "0  SG-SWR1    1NW  327950.705138  4.310016e+06   0.741722   \n",
       "1  SG-SWR1    2NE  327989.478774  4.310008e+06   1.215190   \n",
       "2  SG-SWR1    3SE  327985.883228  4.309978e+06   0.693217   \n",
       "3  SG-SWR1    4SW  327949.990483  4.309982e+06   1.038837   \n",
       "\n",
       "                         geometry  \n",
       "0  POINT (327949.820 4310016.623)  \n",
       "1  POINT (327988.594 4310009.047)  \n",
       "2  POINT (327984.998 4309978.254)  \n",
       "3  POINT (327949.106 4309982.655)  "
      ],
      "text/html": "<div>\n<style scoped>\n    .dataframe tbody tr th:only-of-type {\n        vertical-align: middle;\n    }\n\n    .dataframe tbody tr th {\n        vertical-align: top;\n    }\n\n    .dataframe thead th {\n        text-align: right;\n    }\n</style>\n<table border=\"1\" class=\"dataframe\">\n  <thead>\n    <tr style=\"text-align: right;\">\n      <th></th>\n      <th>PLOT_ID</th>\n      <th>CORNER</th>\n      <th>X_COORD</th>\n      <th>Y_COORD</th>\n      <th>HORZ_PREC</th>\n      <th>geometry</th>\n    </tr>\n  </thead>\n  <tbody>\n    <tr>\n      <th>0</th>\n      <td>SG-SWR1</td>\n      <td>1NW</td>\n      <td>327950.705138</td>\n      <td>4.310016e+06</td>\n      <td>0.741722</td>\n      <td>POINT (327949.820 4310016.623)</td>\n    </tr>\n    <tr>\n      <th>1</th>\n      <td>SG-SWR1</td>\n      <td>2NE</td>\n      <td>327989.478774</td>\n      <td>4.310008e+06</td>\n      <td>1.215190</td>\n      <td>POINT (327988.594 4310009.047)</td>\n    </tr>\n    <tr>\n      <th>2</th>\n      <td>SG-SWR1</td>\n      <td>3SE</td>\n      <td>327985.883228</td>\n      <td>4.309978e+06</td>\n      <td>0.693217</td>\n      <td>POINT (327984.998 4309978.254)</td>\n    </tr>\n    <tr>\n      <th>3</th>\n      <td>SG-SWR1</td>\n      <td>4SW</td>\n      <td>327949.990483</td>\n      <td>4.309982e+06</td>\n      <td>1.038837</td>\n      <td>POINT (327949.106 4309982.655)</td>\n    </tr>\n  </tbody>\n</table>\n</div>"
     },
     "metadata": {},
     "execution_count": 436
    }
   ],
   "source": [
    "cornerpts_gpdf_clean_ls[10]"
   ]
  },
  {
   "source": [
    "### Next work on the errant 4x24 dataframes"
   ],
   "cell_type": "markdown",
   "metadata": {}
  },
  {
   "cell_type": "code",
   "execution_count": 437,
   "metadata": {},
   "outputs": [],
   "source": [
    "cornerpts_gpdf_424_ls = [cornerpts_gpdf_ls[0], cornerpts_gpdf_ls[3], cornerpts_gpdf_ls[13]]\n",
    "cornerpts_424 = [cornerpts[0], cornerpts[3], cornerpts[13]]"
   ]
  },
  {
   "cell_type": "code",
   "execution_count": 438,
   "metadata": {},
   "outputs": [
    {
     "output_type": "stream",
     "name": "stdout",
     "text": [
      "[Index(['Comment', 'Max_PDOP', 'Max_HDOP', 'Corr_Type', 'Rcvr_Type', 'GPS_Date',\n       'GPS_Time', 'Update_Sta', 'Feat_Name', 'Datafile', 'Unfilt_Pos',\n       'Filt_Pos', 'Data_Dicti', 'GPS_Week', 'GPS_Second', 'GNSS_Heigh',\n       'Vert_Prec', 'Horz_Prec', 'Std_Dev', 'Latitude', 'Longitude',\n       'Point_ID', 'Plot_ID', 'geometry'],\n      dtype='object'), Index(['Comment', 'Max_PDOP', 'Max_HDOP', 'Corr_Type', 'Rcvr_Type', 'GPS_Date',\n       'GPS_Time', 'Update_Sta', 'Feat_Name', 'Datafile', 'Unfilt_Pos',\n       'Filt_Pos', 'Data_Dicti', 'GPS_Week', 'GPS_Second', 'GNSS_Heigh',\n       'Vert_Prec', 'Horz_Prec', 'Std_Dev', 'Latitude', 'Longitude',\n       'Point_ID', 'Plot_ID', 'geometry'],\n      dtype='object'), Index(['Comment', 'Max_PDOP', 'Max_HDOP', 'Corr_Type', 'Rcvr_Type', 'GPS_Date',\n       'GPS_Time', 'Update_Sta', 'Feat_Name', 'Datafile', 'Unfilt_Pos',\n       'Filt_Pos', 'Data_Dicti', 'GPS_Week', 'GPS_Second', 'GNSS_Heigh',\n       'Vert_Prec', 'Horz_Prec', 'Std_Dev', 'Latitude', 'Longitude',\n       'Point_ID', 'Plot_ID', 'geometry'],\n      dtype='object')]\n"
     ]
    }
   ],
   "source": [
    "print([i.columns for i in cornerpts_gpdf_424_ls])"
   ]
  },
  {
   "cell_type": "code",
   "execution_count": 439,
   "metadata": {},
   "outputs": [
    {
     "output_type": "execute_result",
     "data": {
      "text/plain": [
       "['XX-PLN2_Bound_pts_WGS84UTM13N.shp',\n",
       " 'XX-CAR2_Bound_pts_WGS84UTM13N.shp',\n",
       " 'XX-CAR1_Bound_pts_WGS84UTM13N.shp']"
      ]
     },
     "metadata": {},
     "execution_count": 439
    }
   ],
   "source": [
    "cornerpts_424"
   ]
  },
  {
   "cell_type": "code",
   "execution_count": 440,
   "metadata": {},
   "outputs": [],
   "source": [
    "cornerpts_gpdf_424_clean_ls = []\n",
    "for sf, name in zip(cornerpts_gpdf_424_ls, cornerpts_424):\n",
    "\n",
    "    # Select and rename columns\n",
    "    sf_clean = sf[['Plot_ID', 'Comment', 'Longitude', 'Latitude', 'Horz_Prec', 'geometry']]\n",
    "    sf_clean.columns = ['PLOT_ID', 'CORNER', 'X_COORD', 'Y_COORD', 'HORZ_PREC', 'geometry']\n",
    "    \n",
    "    # Populate columns with correct values\n",
    "    sf_clean['X_COORD'] = sf_clean.geometry.x # Update X_COORD with X in epsg:32613\n",
    "    sf_clean['Y_COORD'] = sf_clean.geometry.y # Update Y_COORD with Y in epsg:32613\n",
    "    sf_clean['PLOT_ID'] = name[:7].strip('_')\n",
    "    \n",
    "    # Append to full centerpoints list\n",
    "    cornerpts_gpdf_424_clean_ls.append(sf_clean)"
   ]
  },
  {
   "source": [
    "#### Fix the corner identifiers to match convention in 2020 shapefiles"
   ],
   "cell_type": "markdown",
   "metadata": {}
  },
  {
   "cell_type": "code",
   "execution_count": 441,
   "metadata": {},
   "outputs": [],
   "source": [
    "cornerpts_gpdf_424_clean_ls[0]\n",
    "cornerpts_gpdf_424_clean_ls[0]['CORNER'] = ['1NW', '2NE', '3SE', '4SW']"
   ]
  },
  {
   "cell_type": "code",
   "execution_count": 442,
   "metadata": {},
   "outputs": [],
   "source": [
    "cornerpts_gpdf_424_clean_ls[1]\n",
    "cornerpts_gpdf_424_clean_ls[1]['CORNER'] = ['1NW', '2NE', '3SE', '4SW']"
   ]
  },
  {
   "cell_type": "code",
   "execution_count": 443,
   "metadata": {},
   "outputs": [],
   "source": [
    "cornerpts_gpdf_424_clean_ls[2]\n",
    "cornerpts_gpdf_424_clean_ls[2]['CORNER'] = ['3SE', '2NE', '1NW', '4SW']"
   ]
  },
  {
   "cell_type": "code",
   "execution_count": 444,
   "metadata": {},
   "outputs": [],
   "source": [
    "cornerpts_gpdf_clean_ls = cornerpts_gpdf_clean_ls + cornerpts_gpdf_424_clean_ls"
   ]
  },
  {
   "source": [
    "### Export all to new shapefiles"
   ],
   "cell_type": "markdown",
   "metadata": {}
  },
  {
   "cell_type": "code",
   "execution_count": 448,
   "metadata": {},
   "outputs": [],
   "source": [
    "finalnames = cornerpts_47 + cornerpts_424\n",
    "# Export each geodataframe to a shapefile with appropriate name\n",
    "for sfc, name in zip(cornerpts_gpdf_clean_ls, finalnames):\n",
    "    sfc.to_file(os.sep.join([out_dir, 'Kueppers_EastRiver_Plot_Shapefiles_2020_WGS84UTM13N', 'Corner_Points', name]))"
   ]
  }
 ]
}